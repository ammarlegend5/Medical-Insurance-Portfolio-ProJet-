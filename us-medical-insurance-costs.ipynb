{
 "cells": [
  {
   "cell_type": "markdown",
   "metadata": {},
   "source": [
    "# U.S. Medical Insurance Costs"
   ]
  },
  {
   "cell_type": "markdown",
   "metadata": {},
   "source": [
    "# Purpose(s) of the project\n",
    "- Number of smokers with children\n",
    "- Gender of smokers with children (male or female majority?) \n",
    "- Which region has highest BMI? \n",
    "- Who has bigger BMI, people with children or not?\n",
    "- Region with the most children?\n",
    "- Does cost increase as BMI increase? "
   ]
  },
  {
   "cell_type": "code",
   "execution_count": 1,
   "metadata": {},
   "outputs": [
    {
     "data": {
      "text/plain": [
       "98"
      ]
     },
     "execution_count": 1,
     "metadata": {},
     "output_type": "execute_result"
    }
   ],
   "source": [
    "import csv     \n",
    "    \n",
    "def smokers_with_children(name):\n",
    "    with open(name,newline = '')as dataset:\n",
    "        data = csv.DictReader(dataset)\n",
    "        smokers_with_children = 0\n",
    "        for row in data:\n",
    "            if row['smoker'] == 'yes' and int(row['children'])>1:\n",
    "                smokers_with_children += 1\n",
    "        return smokers_with_children\n",
    "            \n",
    "smokers_with_children('insurance.csv')"
   ]
  },
  {
   "cell_type": "code",
   "execution_count": 2,
   "metadata": {},
   "outputs": [
    {
     "name": "stdout",
     "output_type": "stream",
     "text": [
      "{'age': '19', 'sex': 'female', 'bmi': '27.9', 'children': '0', 'smoker': 'yes', 'region': 'southwest', 'charges': '16884.924'}\n"
     ]
    }
   ],
   "source": [
    " with open('insurance.csv',newline = '')as dataset:\n",
    "        data = csv.DictReader(dataset)\n",
    "        for row in data:\n",
    "            print(row)\n",
    "            break"
   ]
  },
  {
   "cell_type": "code",
   "execution_count": 3,
   "metadata": {},
   "outputs": [
    {
     "data": {
      "text/plain": [
       "'Males are the most smokers with children'"
      ]
     },
     "execution_count": 3,
     "metadata": {},
     "output_type": "execute_result"
    }
   ],
   "source": [
    "def gender_of_smokers_with_children(name):\n",
    "    with open(name, newline = '') as dataset:\n",
    "        data = csv.DictReader(dataset)\n",
    "        male_smokers_with_children = 0\n",
    "        female_smokers_with_children = 0 \n",
    "        for row in data:\n",
    "            if row['smoker'] == 'yes' and int(row['children'])>1:\n",
    "                if row['sex'] == 'male':\n",
    "                    male_smokers_with_children += 1\n",
    "                else:\n",
    "                    female_smokers_with_children += 1\n",
    "        if male_smokers_with_children > female_smokers_with_children:\n",
    "            return 'Males are the most smokers with children'\n",
    "        if female_smokers_with_children > male_smokers_with_children:\n",
    "            return 'Females are the most smokers with children'\n",
    "        else:\n",
    "            return 'They are the same number'\n",
    "\n",
    "gender_of_smokers_with_children('insurance.csv')"
   ]
  },
  {
   "cell_type": "code",
   "execution_count": 4,
   "metadata": {},
   "outputs": [
    {
     "data": {
      "text/plain": [
       "(12175, 'southeast')"
      ]
     },
     "execution_count": 4,
     "metadata": {},
     "output_type": "execute_result"
    }
   ],
   "source": [
    "def region_highest_BMI(name):\n",
    "    with open(name, newline = '') as dataset:\n",
    "        data = csv.DictReader(dataset)\n",
    "        dic_regions_BMI = {}\n",
    "        max_region_BMI = 0\n",
    "        max_region = ''\n",
    "        for row in data:\n",
    "            if row['region'] not in dic_regions_BMI:\n",
    "                dic_regions_BMI[row['region']] = 0\n",
    "                dic_regions_BMI[row['region']] += float(row['bmi'])\n",
    "            if row['region'] in dic_regions_BMI:\n",
    "                dic_regions_BMI[row['region']] += float(row['bmi'])\n",
    "        for region, value in dic_regions_BMI.items():\n",
    "            if value > max_region_BMI:\n",
    "                max_region = region\n",
    "                max_region_BMI = round(value)\n",
    "    return max_region_BMI, max_region\n",
    "\n",
    "region_highest_BMI('insurance.csv')\n",
    "            "
   ]
  },
  {
   "cell_type": "code",
   "execution_count": 5,
   "metadata": {},
   "outputs": [
    {
     "data": {
      "text/plain": [
       "'People with children have higher BMI on average'"
      ]
     },
     "execution_count": 5,
     "metadata": {},
     "output_type": "execute_result"
    }
   ],
   "source": [
    "def child_bigger_BMI_or_not(name):\n",
    "    with open(name, newline = '') as dataset:\n",
    "        data = csv.DictReader(dataset)\n",
    "        BMI_with_children = 0 \n",
    "        BMI_no_children = 0\n",
    "        BMI_with_children_total = 0 \n",
    "        BMI_no_children_total = 0 \n",
    "        \n",
    "        for row in data:\n",
    "            if int(row['children']) > 0:\n",
    "                BMI_with_children += float(row['bmi'])\n",
    "                BMI_with_children_total += 1\n",
    "            else:\n",
    "                BMI_no_children += float(row['bmi'])\n",
    "                BMI_no_children_total += 1\n",
    "                \n",
    "        average_BMI_with_children = BMI_with_children/BMI_with_children_total\n",
    "        average_BMI_no_children = BMI_no_children/BMI_no_children_total\n",
    "        \n",
    "    if average_BMI_with_children > average_BMI_no_children:\n",
    "        return 'People with children have higher BMI on average'\n",
    "    else:\n",
    "        return 'People with no children have higher BMI on average'\n",
    "        \n",
    "        \n",
    "child_bigger_BMI_or_not('insurance.csv')"
   ]
  },
  {
   "cell_type": "code",
   "execution_count": 6,
   "metadata": {},
   "outputs": [
    {
     "data": {
      "text/plain": [
       "('southeast', 382)"
      ]
     },
     "execution_count": 6,
     "metadata": {},
     "output_type": "execute_result"
    }
   ],
   "source": [
    "def region_with_most_children(name):\n",
    "    with open(name, newline = '') as dataset:\n",
    "        data = csv.DictReader(dataset)\n",
    "        dic_region_children = {}\n",
    "        region_with_most_children_number = 0\n",
    "        region_with_most_children_name = ''\n",
    "        for row in data:\n",
    "            if int(row['children']) > 0:\n",
    "                if row['region'] not in dic_region_children:\n",
    "                    dic_region_children[row['region']] = 0\n",
    "                    dic_region_children[row['region']] += int(row['children'])\n",
    "                else:\n",
    "                    dic_region_children[row['region']] += int(row['children'])\n",
    "        for region,children in dic_region_children.items():\n",
    "            if children > region_with_most_children_number:\n",
    "                region_with_most_children_number = children\n",
    "                region_with_most_children_name = region\n",
    "        return region_with_most_children_name, region_with_most_children_number\n",
    "    \n",
    "region_with_most_children('insurance.csv')"
   ]
  }
 ],
 "metadata": {
  "kernelspec": {
   "display_name": "Python 3 (ipykernel)",
   "language": "python",
   "name": "python3"
  },
  "language_info": {
   "codemirror_mode": {
    "name": "ipython",
    "version": 3
   },
   "file_extension": ".py",
   "mimetype": "text/x-python",
   "name": "python",
   "nbconvert_exporter": "python",
   "pygments_lexer": "ipython3",
   "version": "3.10.9"
  }
 },
 "nbformat": 4,
 "nbformat_minor": 4
}
